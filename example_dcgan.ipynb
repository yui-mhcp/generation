{
 "cells": [
  {
   "cell_type": "markdown",
   "metadata": {},
   "source": [
    "# Example MNIST DCGAN\n",
    "\n",
    "This notebook shows how to create, train and perform prediction with a `conditionned MNIST DCGAN`.\n",
    "\n",
    "If you want to not condition the model, you can simply put `labels = None` in the `config` variables ! The `conditionned` version takes an additional input which is a `one-hot encoding` of the expected label"
   ]
  },
  {
   "cell_type": "markdown",
   "metadata": {},
   "source": [
    "## Imports + model initialization"
   ]
  },
  {
   "cell_type": "code",
   "execution_count": 1,
   "metadata": {},
   "outputs": [
    {
     "name": "stdout",
     "output_type": "stream",
     "text": [
      "Tensorflow version : 2.3.2\n"
     ]
    }
   ],
   "source": [
    "import pandas as pd\n",
    "import tensorflow as tf\n",
    "\n",
    "from utils.image import display_image\n",
    "from utils import plot, plot_multiple, set_display_options\n",
    "from datasets import get_dataset, prepare_dataset, test_dataset_time\n",
    "from models.generation import DCGAN\n",
    "from custom_train_objects.optimizers import SinScheduler\n",
    "\n",
    "set_display_options()\n",
    "\n",
    "model_name = 'mnist_dcgan_cond'\n",
    "print(\"Tensorflow version : {}\".format(tf.__version__))"
   ]
  },
  {
   "cell_type": "code",
   "execution_count": null,
   "metadata": {},
   "outputs": [],
   "source": [
    "config = {\n",
    "    'image_shape' : (28, 28, 1),\n",
    "    'labels'      : list(range(10)),\n",
    "    'gen_kwargs'  : {\n",
    "        'conv_input_channels' : 256,\n",
    "        'n_blocks' : 2,\n",
    "        'filters' : [128, 64],\n",
    "        'kernel_size' : 5,\n",
    "        'final_kernel_size' : 5,\n",
    "        'strides' : [1, 2],\n",
    "        'final_strides' : 2,\n",
    "        'activation'    : 'leaky',\n",
    "        'drop_rate'     : 0.\n",
    "    },\n",
    "    'dis_kwargs'  : {\n",
    "        'n_conv' : 2,\n",
    "        'filters'     : [64, 128],\n",
    "        'kernel_size' : 5,\n",
    "        'strides'     : 2,\n",
    "        'activation'  : 'leaky',\n",
    "        'drop_rate'   : 0.2\n",
    "    }\n",
    "}\n",
    "model = DCGAN(noise_size = 100, nom = model_name, ** config)\n",
    "\n",
    "print(model)\n",
    "model.summary()"
   ]
  },
  {
   "cell_type": "markdown",
   "metadata": {},
   "source": [
    "## Model instanciation + dataset loading"
   ]
  },
  {
   "cell_type": "code",
   "execution_count": 2,
   "metadata": {},
   "outputs": [
    {
     "name": "stdout",
     "output_type": "stream",
     "text": [
      "Model restoration...\n",
      "Initializing submodel : generator !\n",
      "Successfully restored generator from pretrained_models/mnist_dcgan_cond/saving/generator.json !\n",
      "Initializing submodel : discriminator !\n",
      "Successfully restored discriminator from pretrained_models/mnist_dcgan_cond/saving/discriminator.json !\n",
      "Optimizer 'generator_optimizer' initilized successfully !\n",
      "Optimizer 'discriminator_optimizer' initilized successfully !\n",
      "Model mnist_dcgan_cond initialized successfully !\n",
      "Models already compiled !\n",
      "\n",
      "========== mnist_dcgan_cond ==========\n",
      "Sub model generator\n",
      "- Inputs \t: [(None, 100), (None, 10)]\n",
      "- Outputs \t: (None, 28, 28, 1)\n",
      "- Number of layers \t: 15\n",
      "- Number of parameters \t: 2.456 Millions\n",
      "- Model not compiled\n",
      "\n",
      "Sub model discriminator\n",
      "- Inputs \t: (None, 28, 28, 1)\n",
      "- Outputs \t: [(None, 1), (None, 10)]\n",
      "- Number of layers \t: 12\n",
      "- Number of parameters \t: 0.276 Millions\n",
      "- Model not compiled\n",
      "\n",
      "Total number of layers : 27\n",
      "Total number of parameters : 2.733 Millions\n",
      "Already trained on 50 epochs (11750 steps)\n",
      "\n",
      "Optimizers :\n",
      "- generator_optimizer :\t{'name': 'Adam', 'learning_rate': 9.999999747378752e-05, 'decay': 0.0, 'beta_1': 0.8999999761581421, 'beta_2': 0.9990000128746033, 'epsilon': 1e-07, 'amsgrad': False}\n",
      "- discriminator_optimizer :\t{'name': 'Adam', 'learning_rate': 9.999999747378752e-05, 'decay': 0.0, 'beta_1': 0.8999999761581421, 'beta_2': 0.9990000128746033, 'epsilon': 1e-07, 'amsgrad': False}\n",
      "\n",
      "Losses :\n",
      "- gan_loss :\t{'reduction': 'none', 'name': None, 'labels': {'label': [0, 1, 2, 3, 4, 5, 6, 7, 8, 9]}, 'multi_label': False, 'gen_smoothed_value': 0.0, 'dis_smoothed_value': 0.001, 'one_sided_smoothing': True}\n",
      "\n",
      "Metrics :\n",
      "- gan_metric :\t{'name': 'gan_metric', 'dtype': 'float32', 'labels': DictWrapper({'label': ListWrapper([0, 1, 2, 3, 4, 5, 6, 7, 8, 9])}), 'multi_label': False, 'threshold': 0.5}\n",
      "\n",
      "\n",
      "Noise size : 100\n",
      "Label conditionned : True\n",
      "- label : [0, 1, 2, 3, 4, 5, 6, 7, 8, 9]\n",
      "Image shape : (28, 28, 1)\n",
      "\n"
     ]
    }
   ],
   "source": [
    "model = DCGAN(nom = model_name)\n",
    "\n",
    "gen_lr = 1e-4 #SinScheduler(period = 1024, minval = 1e-4, maxval = 5e-4)\n",
    "dis_lr = 1e-4 #SinScheduler(period = 512, minval = 1e-4, maxval = 5e-4)\n",
    "\n",
    "model.compile(\n",
    "    loss_kwargs          = {\n",
    "        'scale_gen_loss' : False, 'one_sided_smoothing' : True, 'dis_smoothed_value' : 1e-3\n",
    "    },\n",
    "    gen_optimizer_kwargs = {'lr' : gen_lr},\n",
    "    dis_optimizer_kwargs = {'lr' : dis_lr}\n",
    ")\n",
    "\n",
    "print(model)"
   ]
  },
  {
   "cell_type": "code",
   "execution_count": null,
   "metadata": {},
   "outputs": [],
   "source": [
    "ds = get_dataset('mnist')\n",
    "\n",
    "train, valid = ds['train'], ds['test']\n",
    "print(train)\n",
    "print(valid)"
   ]
  },
  {
   "cell_type": "markdown",
   "metadata": {},
   "source": [
    "## Training + history analysis"
   ]
  },
  {
   "cell_type": "code",
   "execution_count": null,
   "metadata": {},
   "outputs": [],
   "source": [
    "epochs = 45\n",
    "batch_size = 256\n",
    "\n",
    "model.train(\n",
    "    train, validation_data = valid,\n",
    "    epochs = epochs, batch_size = batch_size,\n",
    "    augment_prct = 0., min_update_accuracy = 0.\n",
    ")"
   ]
  },
  {
   "cell_type": "code",
   "execution_count": null,
   "metadata": {},
   "outputs": [],
   "source": [
    "model.plot_history()"
   ]
  },
  {
   "cell_type": "markdown",
   "metadata": {},
   "source": [
    "## Prediction"
   ]
  },
  {
   "cell_type": "code",
   "execution_count": 4,
   "metadata": {},
   "outputs": [
    {
     "data": {
      "image/png": "[encoded data removed]",
      "text/plain": [
       "<Figure size 576x576 with 16 Axes>"
      ]
     },
     "metadata": {},
     "output_type": "display_data"
    }
   ],
   "source": [
    "_ = model.predict(n = 16, size = 2, titlesize = 10, filename = 'test.png', show = True)"
   ]
  },
  {
   "cell_type": "code",
   "execution_count": null,
   "metadata": {},
   "outputs": [],
   "source": [
    "from utils.image import display_image\n",
    "\n",
    "display_image(model.build_gif(n_repeat = 2, keep_frames = 5))"
   ]
  },
  {
   "cell_type": "markdown",
   "metadata": {},
   "source": [
    "## Configure `learning rate schedulers`"
   ]
  },
  {
   "cell_type": "code",
   "execution_count": null,
   "metadata": {},
   "outputs": [],
   "source": [
    "gen_lr = SinScheduler(period = 1024, minval = 5e-5, maxval = 5e-4)\n",
    "dis_lr = SinScheduler(period = 512, minval = 1e-5, maxval = 5e-4)\n",
    "\n",
    "_ = plot_multiple(gen_lr = gen_lr, dis_lr = dis_lr, x = range(1024 * 8), x_size = 10)"
   ]
  },
  {
   "cell_type": "markdown",
   "metadata": {},
   "source": [
    "## Test dataset performance"
   ]
  },
  {
   "cell_type": "code",
   "execution_count": null,
   "metadata": {},
   "outputs": [],
   "source": [
    "config = model.get_dataset_config(is_validation = False, batch_size = 128, shuffle_size = 0)\n",
    "\n",
    "ds_train = prepare_dataset(train, ** config, debug = True)\n",
    "test_dataset_time(ds_train, steps = 100)"
   ]
  },
  {
   "cell_type": "code",
   "execution_count": null,
   "metadata": {},
   "outputs": [],
   "source": []
  }
 ],
 "metadata": {
  "kernelspec": {
   "display_name": "Python 3",
   "language": "python",
   "name": "python3"
  },
  "language_info": {
   "codemirror_mode": {
    "name": "ipython",
    "version": 3
   },
   "file_extension": ".py",
   "mimetype": "text/x-python",
   "name": "python",
   "nbconvert_exporter": "python",
   "pygments_lexer": "ipython3",
   "version": "3.6.5"
  }
 },
 "nbformat": 4,
 "nbformat_minor": 4
}
